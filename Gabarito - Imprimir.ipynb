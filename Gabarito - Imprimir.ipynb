{
 "cells": [
  {
   "cell_type": "code",
   "execution_count": 59,
   "id": "3d417704",
   "metadata": {},
   "outputs": [],
   "source": [
    "import win32print\n",
    "import win32api\n",
    "import os\n",
    "\n",
    "\n",
    "# escolher qual impressora a gente vai querer usar\n",
    "lista_impressoras = win32print.EnumPrinters(2)\n",
    "impressora = lista_impressoras[0]\n",
    "\n",
    "win32print.SetDefaultPrinter(impressora[2])\n",
    "\n",
    "\n",
    "# mandar imprimir todos os arquivos de uma pasta\n",
    "caminho = r\"C:\\Users\\Renan Macedo\\Downloads\\PRINT PHYTON\\Imprimir\"\n",
    "lista_arquivos = os.listdir(caminho)\n",
    "\n",
    "for arquivo in lista_arquivos:\n",
    "    win32api.ShellExecute(0, \"print\", arquivo, None, caminho, 0)\n",
    "\n",
    "\n",
    "\n",
    "\n",
    "\n",
    "\n",
    "\n",
    "\n",
    "\n",
    "\n",
    "\n",
    "\n",
    "\n",
    "\n"
   ]
  },
  {
   "cell_type": "markdown",
   "id": "46a62662",
   "metadata": {},
   "source": []
  }
 ],
 "metadata": {
  "kernelspec": {
   "display_name": "Python 3",
   "language": "python",
   "name": "python3"
  },
  "language_info": {
   "codemirror_mode": {
    "name": "ipython",
    "version": 3
   },
   "file_extension": ".py",
   "mimetype": "text/x-python",
   "name": "python",
   "nbconvert_exporter": "python",
   "pygments_lexer": "ipython3",
   "version": "3.12.1"
  }
 },
 "nbformat": 4,
 "nbformat_minor": 5
}
